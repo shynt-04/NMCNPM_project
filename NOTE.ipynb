{
 "cells": [
  {
   "cell_type": "markdown",
   "metadata": {},
   "source": [
    "### views.py\n",
    "File views.py chứa các hàm xử lý logic cho các yêu cầu HTTP trong ứng dụng Django của bạn. \n"
   ]
  },
  {
   "cell_type": "markdown",
   "metadata": {},
   "source": [
    "### models.py \n",
    "File models.py chứa các định nghĩa mô hình (models) cho ứng dụng Django của bạn. Các mô hình này đại diện cho các bảng trong cơ sở dữ liệu và xác định cấu trúc dữ liệu cũng như các mối quan hệ giữa các bảng. "
   ]
  },
  {
   "cell_type": "markdown",
   "metadata": {},
   "source": [
    "### forms.py\n",
    "File forms.py chứa các định nghĩa biểu mẫu (forms) cho ứng dụng Django của bạn. Các biểu mẫu này được sử dụng để xử lý và xác thực dữ liệu đầu vào từ người dùng. "
   ]
  },
  {
   "cell_type": "markdown",
   "metadata": {},
   "source": [
    "### backends.py \n",
    "defines a custom authentication backend for a Django application"
   ]
  },
  {
   "cell_type": "markdown",
   "metadata": {},
   "source": [
    "### apps.py \n",
    "defines the configuration for the nmcnpmapp application in your Django project."
   ]
  },
  {
   "cell_type": "markdown",
   "metadata": {},
   "source": [
    "### admin.py \n",
    "được sử dụng để cấu hình giao diện quản trị của Django cho các mô hình (models) trong ứng dụng của bạn. Nó cho phép bạn tùy chỉnh cách các mô hình được hiển thị và quản lý trong trang quản trị Django.\n",
    "\n"
   ]
  }
 ],
 "metadata": {
  "language_info": {
   "name": "python"
  }
 },
 "nbformat": 4,
 "nbformat_minor": 2
}
